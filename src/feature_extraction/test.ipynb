{
 "cells": [
  {
   "cell_type": "code",
   "execution_count": 128,
   "metadata": {},
   "outputs": [
    {
     "name": "stdout",
     "output_type": "stream",
     "text": [
      "The autoreload extension is already loaded. To reload it, use:\n",
      "  %reload_ext autoreload\n"
     ]
    }
   ],
   "source": [
    "import sys\n",
    "import os\n",
    "sys.path.append(\"../\")\n",
    "\n",
    "from hog_descriptor import *\n",
    "%matplotlib inline\n",
    "%load_ext autoreload\n",
    "%autoreload 2\n",
    "%reload_ext autoreload"
   ]
  },
  {
   "cell_type": "code",
   "execution_count": 129,
   "metadata": {},
   "outputs": [],
   "source": [
    "# read the images\n",
    "images, labels = read_images('../../pp_dataset')\n",
    "# # change images to gray scale\n",
    "for i in range(len(images)):\n",
    "    images[i] = any2gray(images[i])\n",
    "    images[i] = change_gray_range(images[i], format=255)"
   ]
  },
  {
   "cell_type": "code",
   "execution_count": 130,
   "metadata": {},
   "outputs": [],
   "source": [
    "# resize and show images\n",
    "hog_descriptor = HogDescriptor()\n",
    "resized_images = [hog_descriptor.resize_image(image) for image in images]\n",
    "# plot images\n",
    "# show_images(resized_images, titles=labels)\n"
   ]
  },
  {
   "cell_type": "code",
   "execution_count": 131,
   "metadata": {},
   "outputs": [],
   "source": [
    "# calculate the gradient and draw the magnitude and direction\n",
    "magnitudes = []\n",
    "directions = []\n",
    "for image in resized_images:\n",
    "    magnitude, direction = hog_descriptor.calculate_gradient(image)\n",
    "    magnitudes.append(magnitude)\n",
    "    directions.append(direction)\n",
    "\n",
    "# print(magnitudes[0].shape)\n",
    "# print(directions[0].shape)\n",
    "# print(len(magnitudes))\n",
    "# # print max and min of magnitudes and directions\n",
    "# print('max magnitude: ', np.max(magnitudes))\n",
    "# print('min magnitude: ', np.min(magnitudes))\n",
    "# print('max direction: ', np.max(directions[0]))\n",
    "# print('min direction: ', np.min(directions))\n",
    "# print('max direction: ', np.pi*2)\n"
   ]
  },
  {
   "cell_type": "code",
   "execution_count": 132,
   "metadata": {},
   "outputs": [],
   "source": [
    "# # divide first image into blocks of size 64\n",
    "# print(resized_images[0].shape)\n",
    "# divided_image = divide_image(resized_images[0], 8)\n",
    "# # show_images(divided_image)\n"
   ]
  },
  {
   "cell_type": "code",
   "execution_count": 133,
   "metadata": {},
   "outputs": [
    {
     "name": "stdout",
     "output_type": "stream",
     "text": [
      "128\n",
      "128\n"
     ]
    }
   ],
   "source": [
    "# calculate the histogram for the first image magnitudes and directions\n",
    "histograms = []\n",
    "for i in range(len(magnitudes)):\n",
    "    magnitude = magnitudes[i]\n",
    "    direction = directions[i]\n",
    "    histogram = hog_descriptor.calculate_histogram(magnitude, direction)\n",
    "    histograms.append(histogram)\n",
    "    \n"
   ]
  },
  {
   "cell_type": "code",
   "execution_count": null,
   "metadata": {},
   "outputs": [],
   "source": []
  }
 ],
 "metadata": {
  "kernelspec": {
   "display_name": "base",
   "language": "python",
   "name": "python3"
  },
  "language_info": {
   "codemirror_mode": {
    "name": "ipython",
    "version": 3
   },
   "file_extension": ".py",
   "mimetype": "text/x-python",
   "name": "python",
   "nbconvert_exporter": "python",
   "pygments_lexer": "ipython3",
   "version": "3.9.13"
  },
  "orig_nbformat": 4
 },
 "nbformat": 4,
 "nbformat_minor": 2
}
