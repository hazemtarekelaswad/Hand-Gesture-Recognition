{
 "cells": [
  {
   "cell_type": "code",
   "execution_count": null,
   "metadata": {},
   "outputs": [],
   "source": [
    "from typing import *\n",
    "import numpy as np\n",
    "from skimage import io\n",
    "from skimage.transform import rescale, resize\n",
    "import os\n",
    "import matplotlib.pyplot as plt\n",
    "from utils.common_functions import *\n",
    "import cv2\n",
    "from scipy import ndimage\n"
   ]
  },
  {
   "attachments": {},
   "cell_type": "markdown",
   "metadata": {},
   "source": [
    "### Reading images"
   ]
  },
  {
   "cell_type": "code",
   "execution_count": null,
   "metadata": {},
   "outputs": [],
   "source": [
    "def read_images():\n",
    "    dataset_path = '../dataset_sample'\n",
    "\n",
    "    images = []\n",
    "    labels = []\n",
    "    for dirpath, _, filenames in os.walk(dataset_path):\n",
    "        if not filenames: continue\n",
    "\n",
    "        for file in filenames:\n",
    "            if not file.endswith('.jpg') and not file.endswith('.JPG'): \n",
    "                print(f'File {file} is not a jpg file. Skipping...')\n",
    "                continue\n",
    "\n",
    "            file_path = os.path.join(dirpath, file)\n",
    "\n",
    "            # to avoid reading corrupted images\n",
    "            image = cv2.imread(file_path)\n",
    "            if image is None:\n",
    "                print(f'File {file} is not a valid image. Skipping...')\n",
    "                continue\n",
    "            \n",
    "            images.append(image)\n",
    "            labels.append(int(file[0]))\n",
    "    \n",
    "    return images, labels"
   ]
  },
  {
   "cell_type": "code",
   "execution_count": null,
   "metadata": {},
   "outputs": [],
   "source": [
    "images, labels = read_images()\n"
   ]
  },
  {
   "attachments": {},
   "cell_type": "markdown",
   "metadata": {},
   "source": [
    "### Preprocessing"
   ]
  },
  {
   "cell_type": "code",
   "execution_count": null,
   "metadata": {},
   "outputs": [],
   "source": [
    "def preprocess_image(image: np.ndarray) -> np.ndarray:\n",
    "    resize_ratio = 0.1\n",
    "\n",
    "    image = cv2.resize(image, (int(image.shape[1] * resize_ratio), int(image.shape[0] * resize_ratio)))\n",
    "    show_images([image])\n",
    "\n",
    "    image = cv2.cvtColor(image, cv2.COLOR_BGR2YCR_CB)\n",
    "    show_images([image])\n",
    "\n",
    "    lower_bound = np.array([0, 133, 77])\n",
    "    upper_bound = np.array([255, 173, 127])\n",
    "    image = cv2.inRange(image, lower_bound, upper_bound)\n",
    "    show_images([image])\n",
    "\n",
    "    # kernel = np.ones((5, 5), np.uint8)\n",
    "    # image = cv2.dilate(image, kernel, iterations=5)\n",
    "    # show_images([image])\n",
    "\n",
    "    kernel = np.ones((5, 5), np.uint8)\n",
    "    image = cv2.erode(image, kernel, iterations=1)\n",
    "    show_images([image])\n",
    "\n",
    "    image = ndimage.binary_fill_holes(image).astype(np.int8)\n",
    "    show_images([image])\n",
    "\n",
    "    # image = any2gray(image)\n",
    "    # image = change_gray_range(image, format=255)\n",
    "    # image = change_gray_range(rescale(image, 0.1, anti_aliasing=True))\n",
    "    # image = convert_to_binary(image, threshold=140)\n",
    "    return image"
   ]
  },
  {
   "cell_type": "code",
   "execution_count": null,
   "metadata": {},
   "outputs": [],
   "source": [
    "preprocess_image(cv2.imread('../dataset/men/1/1_men (34).JPG'))"
   ]
  },
  {
   "cell_type": "code",
   "execution_count": null,
   "metadata": {},
   "outputs": [],
   "source": [
    "# preprocess all images\n",
    "for i in range(len(images)):\n",
    "    images[i] = preprocess_image(images[i].copy())\n",
    "    break"
   ]
  }
 ],
 "metadata": {
  "kernelspec": {
   "display_name": "Python 3",
   "language": "python",
   "name": "python3"
  },
  "language_info": {
   "codemirror_mode": {
    "name": "ipython",
    "version": 3
   },
   "file_extension": ".py",
   "mimetype": "text/x-python",
   "name": "python",
   "nbconvert_exporter": "python",
   "pygments_lexer": "ipython3",
   "version": "3.9.13"
  },
  "orig_nbformat": 4
 },
 "nbformat": 4,
 "nbformat_minor": 2
}
