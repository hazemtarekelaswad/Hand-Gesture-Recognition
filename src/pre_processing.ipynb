{
 "cells": [
  {
   "cell_type": "code",
   "execution_count": 1,
   "metadata": {},
   "outputs": [],
   "source": [
    "from typing import *\n",
    "import numpy as np\n",
    "from skimage import io\n",
    "from skimage.transform import rescale, resize\n",
    "import os\n",
    "import matplotlib.pyplot as plt\n",
    "from utils.common_functions import *\n",
    "import cv2\n",
    "from scipy import ndimage\n"
   ]
  },
  {
   "attachments": {},
   "cell_type": "markdown",
   "metadata": {},
   "source": [
    "### Reading images"
   ]
  },
  {
   "cell_type": "code",
   "execution_count": 8,
   "metadata": {},
   "outputs": [],
   "source": [
    "def read_images():\n",
    "    dataset_path = '../dataset'\n",
    "\n",
    "    images = []\n",
    "    labels = []\n",
    "    for dirpath, _, filenames in os.walk(dataset_path):\n",
    "        if not filenames: continue\n",
    "        print(f'Processing directory {dirpath}...')\n",
    "        for file in filenames:\n",
    "            if not file.endswith('.jpg') and not file.endswith('.JPG'): \n",
    "                print(f'File {file} is not a jpg file. Skipping...')\n",
    "                continue\n",
    "\n",
    "            file_path = os.path.join(dirpath, file)\n",
    "\n",
    "            # to avoid reading corrupted images\n",
    "            image = cv2.imread(file_path)\n",
    "            if image is None:\n",
    "                print(f'File {file} is not a valid image. Skipping...')\n",
    "                continue\n",
    "            \n",
    "            images.append(image)\n",
    "            labels.append(int(file[0]))\n",
    "    \n",
    "    return images, labels"
   ]
  },
  {
   "cell_type": "code",
   "execution_count": 9,
   "metadata": {},
   "outputs": [
    {
     "name": "stdout",
     "output_type": "stream",
     "text": [
      "Processing directory ../dataset\\men\\0...\n",
      "File desktop.ini is not a jpg file. Skipping...\n",
      "Processing directory ../dataset\\men\\1...\n",
      "File desktop.ini is not a jpg file. Skipping...\n",
      "Processing directory ../dataset\\men\\2...\n",
      "File 2_men (107).JPG is not a valid image. Skipping...\n",
      "File 2_men (108).JPG is not a valid image. Skipping...\n",
      "File desktop.ini is not a jpg file. Skipping...\n",
      "Processing directory ../dataset\\men\\3...\n",
      "File 3_men (140).JPG is not a valid image. Skipping...\n",
      "File 3_men (141).JPG is not a valid image. Skipping...\n",
      "File desktop.ini is not a jpg file. Skipping...\n",
      "Processing directory ../dataset\\men\\4...\n",
      "File 4_men (5).JPG is not a valid image. Skipping...\n",
      "File 4_men (6).JPG is not a valid image. Skipping...\n",
      "File desktop.ini is not a jpg file. Skipping...\n",
      "Processing directory ../dataset\\men\\5...\n",
      "File desktop.ini is not a jpg file. Skipping...\n",
      "Processing directory ../dataset\\Women\\0...\n",
      "File desktop.ini is not a jpg file. Skipping...\n",
      "Processing directory ../dataset\\Women\\1...\n"
     ]
    },
    {
     "ename": "error",
     "evalue": "OpenCV(4.7.0) D:\\a\\opencv-python\\opencv-python\\opencv\\modules\\core\\src\\alloc.cpp:73: error: (-4:Insufficient memory) Failed to allocate 35831808 bytes in function 'cv::OutOfMemoryError'\n",
     "output_type": "error",
     "traceback": [
      "\u001b[1;31m---------------------------------------------------------------------------\u001b[0m",
      "\u001b[1;31merror\u001b[0m                                     Traceback (most recent call last)",
      "\u001b[1;32mf:\\Eng materials\\10th semester\\Pattern\\Project\\Pattern-Project\\src\\pre_processing.ipynb Cell 4\u001b[0m in \u001b[0;36m1\n\u001b[1;32m----> <a href='vscode-notebook-cell:/f%3A/Eng%20materials/10th%20semester/Pattern/Project/Pattern-Project/src/pre_processing.ipynb#W3sZmlsZQ%3D%3D?line=0'>1</a>\u001b[0m images, labels \u001b[39m=\u001b[39m read_images()\n",
      "\u001b[1;32mf:\\Eng materials\\10th semester\\Pattern\\Project\\Pattern-Project\\src\\pre_processing.ipynb Cell 4\u001b[0m in \u001b[0;36m1\n\u001b[0;32m     <a href='vscode-notebook-cell:/f%3A/Eng%20materials/10th%20semester/Pattern/Project/Pattern-Project/src/pre_processing.ipynb#W3sZmlsZQ%3D%3D?line=13'>14</a>\u001b[0m file_path \u001b[39m=\u001b[39m os\u001b[39m.\u001b[39mpath\u001b[39m.\u001b[39mjoin(dirpath, file)\n\u001b[0;32m     <a href='vscode-notebook-cell:/f%3A/Eng%20materials/10th%20semester/Pattern/Project/Pattern-Project/src/pre_processing.ipynb#W3sZmlsZQ%3D%3D?line=15'>16</a>\u001b[0m \u001b[39m# to avoid reading corrupted images\u001b[39;00m\n\u001b[1;32m---> <a href='vscode-notebook-cell:/f%3A/Eng%20materials/10th%20semester/Pattern/Project/Pattern-Project/src/pre_processing.ipynb#W3sZmlsZQ%3D%3D?line=16'>17</a>\u001b[0m image \u001b[39m=\u001b[39m cv2\u001b[39m.\u001b[39;49mimread(file_path)\n\u001b[0;32m     <a href='vscode-notebook-cell:/f%3A/Eng%20materials/10th%20semester/Pattern/Project/Pattern-Project/src/pre_processing.ipynb#W3sZmlsZQ%3D%3D?line=17'>18</a>\u001b[0m \u001b[39mif\u001b[39;00m image \u001b[39mis\u001b[39;00m \u001b[39mNone\u001b[39;00m:\n\u001b[0;32m     <a href='vscode-notebook-cell:/f%3A/Eng%20materials/10th%20semester/Pattern/Project/Pattern-Project/src/pre_processing.ipynb#W3sZmlsZQ%3D%3D?line=18'>19</a>\u001b[0m     \u001b[39mprint\u001b[39m(\u001b[39mf\u001b[39m\u001b[39m'\u001b[39m\u001b[39mFile \u001b[39m\u001b[39m{\u001b[39;00mfile\u001b[39m}\u001b[39;00m\u001b[39m is not a valid image. Skipping...\u001b[39m\u001b[39m'\u001b[39m)\n",
      "\u001b[1;31merror\u001b[0m: OpenCV(4.7.0) D:\\a\\opencv-python\\opencv-python\\opencv\\modules\\core\\src\\alloc.cpp:73: error: (-4:Insufficient memory) Failed to allocate 35831808 bytes in function 'cv::OutOfMemoryError'\n"
     ]
    }
   ],
   "source": [
    "images, labels = read_images()\n"
   ]
  },
  {
   "cell_type": "code",
   "execution_count": null,
   "metadata": {},
   "outputs": [
    {
     "name": "stdout",
     "output_type": "stream",
     "text": [
      "Number of images: 59\n"
     ]
    }
   ],
   "source": [
    "print(f'Number of images: {len(images)}')"
   ]
  },
  {
   "attachments": {},
   "cell_type": "markdown",
   "metadata": {},
   "source": [
    "### Preprocessing"
   ]
  },
  {
   "cell_type": "code",
   "execution_count": null,
   "metadata": {},
   "outputs": [],
   "source": [
    "def preprocess_image(image: np.ndarray) -> np.ndarray:\n",
    "    resize_ratio = 0.1\n",
    "\n",
    "    image = cv2.resize(image, (int(image.shape[1] * resize_ratio), int(image.shape[0] * resize_ratio)))\n",
    "    show_images([image])\n",
    "\n",
    "    image = cv2.cvtColor(image, cv2.COLOR_BGR2YCR_CB)\n",
    "    show_images([image])\n",
    "\n",
    "    lower_bound = np.array([0, 133, 77])\n",
    "    upper_bound = np.array([255, 173, 127])\n",
    "    image = cv2.inRange(image, lower_bound, upper_bound)\n",
    "    show_images([image])\n",
    "\n",
    "    # kernel = np.ones((5, 5), np.uint8)\n",
    "    # image = cv2.dilate(image, kernel, iterations=5)\n",
    "    # show_images([image])\n",
    "\n",
    "    kernel = np.ones((5, 5), np.uint8)\n",
    "    image = cv2.erode(image, kernel, iterations=1)\n",
    "    show_images([image])\n",
    "\n",
    "    image = ndimage.binary_fill_holes(image).astype(np.int8)\n",
    "    show_images([image])\n",
    "\n",
    "    # image = any2gray(image)\n",
    "    # image = change_gray_range(image, format=255)\n",
    "    # image = change_gray_range(rescale(image, 0.1, anti_aliasing=True))\n",
    "    # image = convert_to_binary(image, threshold=140)\n",
    "    return image"
   ]
  },
  {
   "cell_type": "code",
   "execution_count": null,
   "metadata": {},
   "outputs": [],
   "source": [
    "preprocess_image(cv2.imread('../dataset/men/1/1_men (34).JPG'))"
   ]
  },
  {
   "cell_type": "code",
   "execution_count": null,
   "metadata": {},
   "outputs": [],
   "source": [
    "# preprocess all images\n",
    "for i in range(len(images)):\n",
    "    images[i] = preprocess_image(images[i].copy())\n",
    "    # break"
   ]
  },
  {
   "cell_type": "code",
   "execution_count": null,
   "metadata": {},
   "outputs": [],
   "source": []
  }
 ],
 "metadata": {
  "kernelspec": {
   "display_name": "Python 3",
   "language": "python",
   "name": "python3"
  },
  "language_info": {
   "codemirror_mode": {
    "name": "ipython",
    "version": 3
   },
   "file_extension": ".py",
   "mimetype": "text/x-python",
   "name": "python",
   "nbconvert_exporter": "python",
   "pygments_lexer": "ipython3",
   "version": "3.10.10"
  },
  "orig_nbformat": 4
 },
 "nbformat": 4,
 "nbformat_minor": 2
}
