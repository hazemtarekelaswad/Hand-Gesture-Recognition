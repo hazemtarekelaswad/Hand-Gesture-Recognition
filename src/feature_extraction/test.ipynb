{
 "cells": [
  {
   "cell_type": "code",
   "execution_count": 26,
   "metadata": {},
   "outputs": [
    {
     "name": "stdout",
     "output_type": "stream",
     "text": [
      "The autoreload extension is already loaded. To reload it, use:\n",
      "  %reload_ext autoreload\n"
     ]
    }
   ],
   "source": [
    "import sys\n",
    "import os\n",
    "sys.path.append(\"../\")\n",
    "\n",
    "from hog_descriptor import *\n",
    "%matplotlib inline\n",
    "%load_ext autoreload\n",
    "%autoreload 2\n",
    "%reload_ext autoreload"
   ]
  },
  {
   "cell_type": "code",
   "execution_count": 27,
   "metadata": {},
   "outputs": [],
   "source": [
    "# read the images\n",
    "images, labels = read_images('../../pp_dataset')"
   ]
  },
  {
   "cell_type": "code",
   "execution_count": 28,
   "metadata": {},
   "outputs": [
    {
     "name": "stdout",
     "output_type": "stream",
     "text": [
      "24\n",
      "<class 'list'>\n",
      "3780\n",
      "<class 'numpy.ndarray'>\n",
      "0.9994009156172339\n",
      "0.0\n"
     ]
    }
   ],
   "source": [
    "# extract features\n",
    "hog = HogDescriptor()\n",
    "features_manual = []\n",
    "for image in images:\n",
    "    feature_manual = hog.extract_features(image)\n",
    "    features_manual.append(feature_manual)\n",
    "print(len(features_manual))\n",
    "print(type(features_manual))\n",
    "print(len(features_manual[0]))\n",
    "print(type(features_manual[0]))\n",
    "print(np.max(features_manual))\n",
    "print(np.min(features_manual))\n"
   ]
  },
  {
   "cell_type": "code",
   "execution_count": 29,
   "metadata": {},
   "outputs": [
    {
     "name": "stdout",
     "output_type": "stream",
     "text": [
      "24\n",
      "<class 'list'>\n",
      "3780\n",
      "<class 'numpy.ndarray'>\n",
      "0.99502486\n",
      "0.0\n"
     ]
    }
   ],
   "source": [
    "features_builtin = []\n",
    "for image in images:\n",
    "    feature_builtin = hog.builtin_hog_descriptor(image)\n",
    "    features_builtin.append(feature_builtin)\n",
    "print(len(features_builtin))\n",
    "print(type(features_builtin))\n",
    "print(len(features_builtin[0]))\n",
    "print(type(features_builtin[0]))\n",
    "print(np.max(features_builtin))\n",
    "print(np.min(features_builtin))"
   ]
  },
  {
   "cell_type": "code",
   "execution_count": 30,
   "metadata": {},
   "outputs": [
    {
     "name": "stdout",
     "output_type": "stream",
     "text": [
      "error is 8.529659618572275%\n"
     ]
    }
   ],
   "source": [
    "print(\"error is \" + str(hog.error_calculation(features_manual, features_builtin)*100 )+ \"%\")\n"
   ]
  },
  {
   "cell_type": "code",
   "execution_count": 31,
   "metadata": {},
   "outputs": [],
   "source": [
    "# # resize and show images\n",
    "# hog_descriptor = HogDescriptor()\n",
    "# resized_images = [hog_descriptor.resize_image(image) for image in images]\n",
    "# # plot images\n",
    "# # show_images(resized_images, titles=labels)\n"
   ]
  },
  {
   "cell_type": "code",
   "execution_count": 32,
   "metadata": {},
   "outputs": [],
   "source": [
    "# # calculate the gradient and draw the magnitude and direction\n",
    "# magnitudes = []\n",
    "# directions = []\n",
    "# for image in resized_images:\n",
    "#     magnitude, direction = hog_descriptor.calculate_gradient(image)\n",
    "#     magnitudes.append(magnitude)\n",
    "#     directions.append(direction)\n",
    "\n",
    "# # print(magnitudes[0].shape)\n",
    "# # print(directions[0].shape)\n",
    "# # print(len(magnitudes))\n",
    "# # # print max and min of magnitudes and directions\n",
    "# # print('max magnitude: ', np.max(magnitudes))\n",
    "# # print('min magnitude: ', np.min(magnitudes))\n",
    "# # print('max direction: ', np.max(directions[0]))\n",
    "# # print('min direction: ', np.min(directions))\n",
    "# # print('max direction: ', np.pi*2)\n"
   ]
  },
  {
   "cell_type": "code",
   "execution_count": 33,
   "metadata": {},
   "outputs": [],
   "source": [
    "# # divide first image into blocks of size 64\n",
    "# print(resized_images[0].shape)\n",
    "# divided_image = divide_image(resized_images[0], 8)\n",
    "# # show_images(divided_image)\n"
   ]
  },
  {
   "cell_type": "code",
   "execution_count": 34,
   "metadata": {},
   "outputs": [],
   "source": [
    "# # calculate the histogram for the first image magnitudes and directions\n",
    "# histograms = []\n",
    "# for i in range(len(magnitudes)):\n",
    "#     magnitude = magnitudes[i]\n",
    "#     direction = directions[i]\n",
    "#     histogram = hog_descriptor.calculate_histogram(magnitude, direction)\n",
    "#     histograms.append(histogram)\n",
    "\n",
    "# # print min and max of histograms\n",
    "# print('max histogram: ', np.max(histograms[0]))\n",
    "# print('min histogram: ', np.min(histograms[0]))\n",
    "# # print if there's a nan value in the histograms\n",
    "# print('nan in histogram: ', np.isnan(histograms).any())\n",
    "# # print number of 0 values in the histograms[0]\n",
    "# print(len(histograms))\n",
    "# print(len(histograms[0]))\n",
    "# # for i in range(128):\n",
    "# #     print((histograms[0][i]))\n",
    "    \n"
   ]
  },
  {
   "cell_type": "code",
   "execution_count": 35,
   "metadata": {},
   "outputs": [],
   "source": [
    "# print(len(histograms))\n",
    "# print(len(histograms[0]))\n",
    "# print(len(histograms[0][0]))"
   ]
  },
  {
   "cell_type": "code",
   "execution_count": 36,
   "metadata": {},
   "outputs": [],
   "source": [
    "# features = hog_descriptor.extract_feature_from_histogram(histograms[0])\n",
    "# # print(histograms_2d.shape)\n",
    "# # #print max and min of histograms_2d\n",
    "# # print('max histogram_2d: ', np.max(histograms_2d))\n",
    "# # print('min histogram_2d: ', np.min(histograms_2d))\n",
    "# # # print if there's a nan value in the histograms_2d\n",
    "# # print('nan in histogram_2d: ', np.isnan(histograms_2d).any())\n",
    "\n",
    "# print(len(features))\n",
    "# # print min and max of features\n",
    "# print('max feature: ', np.max(features))\n",
    "# print('min feature: ', np.min(features))\n"
   ]
  }
 ],
 "metadata": {
  "kernelspec": {
   "display_name": "base",
   "language": "python",
   "name": "python3"
  },
  "language_info": {
   "codemirror_mode": {
    "name": "ipython",
    "version": 3
   },
   "file_extension": ".py",
   "mimetype": "text/x-python",
   "name": "python",
   "nbconvert_exporter": "python",
   "pygments_lexer": "ipython3",
   "version": "3.9.13"
  },
  "orig_nbformat": 4
 },
 "nbformat": 4,
 "nbformat_minor": 2
}
