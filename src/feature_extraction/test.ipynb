{
 "cells": [
  {
   "cell_type": "code",
   "execution_count": null,
   "metadata": {},
   "outputs": [],
   "source": [
    "import sys\n",
    "import os\n",
    "sys.path.append(\"../\")\n",
    "\n",
    "from hog_descriptor import *\n",
    "%matplotlib inline\n",
    "%load_ext autoreload\n",
    "%autoreload 2\n",
    "%reload_ext autoreload"
   ]
  },
  {
   "cell_type": "code",
   "execution_count": 32,
   "metadata": {},
   "outputs": [],
   "source": [
    "# read the images\n",
    "images, labels = read_images('../../pp_dataset')\n",
    "# change images to gray scale\n",
    "for i in range(len(images)):\n",
    "    images[i] = any2gray(images[i])\n",
    "    images[i] = change_gray_range(images[i], format=255)"
   ]
  },
  {
   "cell_type": "code",
   "execution_count": 33,
   "metadata": {},
   "outputs": [
    {
     "name": "stdout",
     "output_type": "stream",
     "text": [
      "(259, 460)\n"
     ]
    }
   ],
   "source": [
    "# cf.show_images(images, titles=labels)\n",
    "print(images[0].shape)"
   ]
  },
  {
   "cell_type": "code",
   "execution_count": 34,
   "metadata": {},
   "outputs": [],
   "source": [
    "# resize and show images\n",
    "hog_descriptor = HogDescriptor()\n",
    "resized_images = [hog_descriptor.resize_image(image) for image in images]\n",
    "# plot images\n",
    "# show_images(resized_images, titles=labels)\n"
   ]
  },
  {
   "cell_type": "code",
   "execution_count": 35,
   "metadata": {},
   "outputs": [
    {
     "name": "stdout",
     "output_type": "stream",
     "text": [
      "(64, 128)\n",
      "(64, 128)\n",
      "24\n"
     ]
    }
   ],
   "source": [
    "# calculate the gradient and draw the magnitude and direction\n",
    "magnitudes = []\n",
    "directions = []\n",
    "for image in resized_images:\n",
    "    magnitude, direction = hog_descriptor.calculate_gradient(image)\n",
    "    magnitudes.append(magnitude)\n",
    "    directions.append(direction)\n",
    "\n",
    "print(magnitudes[0].shape)\n",
    "print(directions[0].shape)\n",
    "print(len(magnitudes))\n"
   ]
  },
  {
   "cell_type": "code",
   "execution_count": 40,
   "metadata": {},
   "outputs": [
    {
     "name": "stdout",
     "output_type": "stream",
     "text": [
      "(64, 128)\n"
     ]
    }
   ],
   "source": [
    "# divide first image into blocks of size 64\n",
    "print(resized_images[0].shape)\n",
    "divided_image = divide_image(resized_images[0], 8)\n",
    "# show_images(divided_image)\n"
   ]
  },
  {
   "cell_type": "code",
   "execution_count": null,
   "metadata": {},
   "outputs": [],
   "source": []
  }
 ],
 "metadata": {
  "kernelspec": {
   "display_name": "base",
   "language": "python",
   "name": "python3"
  },
  "language_info": {
   "codemirror_mode": {
    "name": "ipython",
    "version": 3
   },
   "file_extension": ".py",
   "mimetype": "text/x-python",
   "name": "python",
   "nbconvert_exporter": "python",
   "pygments_lexer": "ipython3",
   "version": "3.9.13"
  },
  "orig_nbformat": 4
 },
 "nbformat": 4,
 "nbformat_minor": 2
}
